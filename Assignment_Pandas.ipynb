{
 "cells": [
  {
   "cell_type": "code",
   "execution_count": 2,
   "id": "cac95ea2-5e14-4f11-98c0-b75017409233",
   "metadata": {
    "tags": []
   },
   "outputs": [],
   "source": [
    "import numpy as np\n",
    "import pandas as pd"
   ]
  },
  {
   "cell_type": "code",
   "execution_count": 10,
   "id": "344a2102-1d82-44ff-8366-85557be00c42",
   "metadata": {
    "tags": []
   },
   "outputs": [],
   "source": [
    "random_houses =np.random.randint(4000,20000, size=120)"
   ]
  },
  {
   "cell_type": "code",
   "execution_count": 11,
   "id": "2dbfb2ce-d940-4f43-8415-650c59fb4695",
   "metadata": {
    "tags": []
   },
   "outputs": [
    {
     "data": {
      "text/plain": [
       "array([11230, 14611, 16890,  8130, 15992, 19836,  7542, 18502, 10408,\n",
       "       19477, 17665, 17829,  4571, 12725,  7762,  5456,  9238, 16216,\n",
       "       13208,  7498,  5893,  5305,  4896, 17989,  4548, 17014,  4114,\n",
       "       17118, 19016, 19037,  8377, 12031, 15369, 18820, 12597, 15695,\n",
       "       17290, 17899, 12416, 16343, 12711, 18283, 12659,  7028,  7194,\n",
       "        8783, 13670, 10504,  9034,  6763, 10838, 11757, 17850, 13342,\n",
       "        6571, 19959, 18888, 16265,  4110, 10938,  4449,  8792, 10764,\n",
       "       19168,  5712, 14998,  9616, 14083,  5539, 11910, 18992, 19618,\n",
       "       12795, 16027, 11197,  5482,  7551,  7204, 15409,  5868, 15746,\n",
       "        6498, 12373, 12447, 16664, 12277, 10819, 17882,  6298, 14306,\n",
       "        5853, 18283, 10600,  9278, 19875,  7755, 18050, 16200, 10405,\n",
       "       14491,  8707, 15830, 15762,  9801,  7946,  9180,  8557,  7502,\n",
       "        9874, 19189, 19195,  4123, 16822,  9214, 15222, 18602, 13831,\n",
       "       12890, 11540, 14197])"
      ]
     },
     "execution_count": 11,
     "metadata": {},
     "output_type": "execute_result"
    }
   ],
   "source": [
    "random_houses"
   ]
  },
  {
   "cell_type": "code",
   "execution_count": 12,
   "id": "afce92b2-0c22-4086-8857-db166d6aa8aa",
   "metadata": {
    "tags": []
   },
   "outputs": [
    {
     "data": {
      "text/plain": [
       "0      11230\n",
       "1      14611\n",
       "2      16890\n",
       "3       8130\n",
       "4      15992\n",
       "       ...  \n",
       "115    18602\n",
       "116    13831\n",
       "117    12890\n",
       "118    11540\n",
       "119    14197\n",
       "Name: get a house, Length: 120, dtype: int32"
      ]
     },
     "execution_count": 12,
     "metadata": {},
     "output_type": "execute_result"
    }
   ],
   "source": [
    "random_houses= pd.Series(random_houses, name=\"get a house\")\n",
    "random_houses\n"
   ]
  },
  {
   "cell_type": "code",
   "execution_count": 24,
   "id": "55acb40b-68cb-4b7e-b15d-aedc68b588a5",
   "metadata": {
    "tags": []
   },
   "outputs": [
    {
     "data": {
      "text/plain": [
       "0    11230\n",
       "1    14611\n",
       "2    16890\n",
       "3     8130\n",
       "4    15992\n",
       "5    19836\n",
       "6     7542\n",
       "Name: get a house, dtype: int32"
      ]
     },
     "execution_count": 24,
     "metadata": {},
     "output_type": "execute_result"
    }
   ],
   "source": [
    "random_houses.head(7)"
   ]
  },
  {
   "cell_type": "code",
   "execution_count": 14,
   "id": "3df4d41c-b2f0-4855-8ee0-f2e49b0cf31d",
   "metadata": {
    "tags": []
   },
   "outputs": [
    {
     "data": {
      "text/plain": [
       "113     9214\n",
       "114    15222\n",
       "115    18602\n",
       "116    13831\n",
       "117    12890\n",
       "118    11540\n",
       "119    14197\n",
       "Name: get a house, dtype: int32"
      ]
     },
     "execution_count": 14,
     "metadata": {},
     "output_type": "execute_result"
    }
   ],
   "source": [
    "random_houses.tail(7)"
   ]
  },
  {
   "cell_type": "code",
   "execution_count": 23,
   "id": "1fe095af-5920-44df-acbb-4707455e9375",
   "metadata": {
    "tags": []
   },
   "outputs": [],
   "source": [
    "def house_category(a):\n",
    "    if a <= 3000:\n",
    "        return \"umoja\"\n",
    "    elif a <= 9000:\n",
    "        return \"westy\"\n",
    "    elif a <= 15000:\n",
    "        return \"buru\"\n",
    "    elif a <= 20000:\n",
    "        return \"kawa\"\n",
    "    else: return \"No house available\"\n",
    "     \n"
   ]
  },
  {
   "cell_type": "code",
   "execution_count": 25,
   "id": "c6baabeb-bad6-4358-9238-eebbf7cef480",
   "metadata": {
    "tags": []
   },
   "outputs": [],
   "source": [
    "house_court = random_houses.apply(house_category)"
   ]
  },
  {
   "cell_type": "code",
   "execution_count": 26,
   "id": "188dfa12-5934-4358-8cc5-4b7b0b2d985d",
   "metadata": {
    "tags": []
   },
   "outputs": [],
   "source": [
    "price_adjustment = pd.Series(random_houses).apply(lambda a: a * 1.10)\n"
   ]
  },
  {
   "cell_type": "code",
   "execution_count": 28,
   "id": "2eb2976a-2fe2-41a0-98dc-89feadeabb8c",
   "metadata": {
    "tags": []
   },
   "outputs": [],
   "source": [
    "def garbage_price(a):\n",
    "    return a+250\n",
    "\n",
    "overall_price=pd.Series(price_adjustment).apply(garbage_price)\n"
   ]
  },
  {
   "cell_type": "code",
   "execution_count": 31,
   "id": "aab6410f-14f6-4683-8170-040a63d7f6b0",
   "metadata": {
    "tags": []
   },
   "outputs": [
    {
     "name": "stdout",
     "output_type": "stream",
     "text": [
      "\\Moringa_Realty:\n",
      "     House Rates Courts  Gov Rates  Overall Price\n",
      "110        19195   kawa    21114.5        21364.5\n",
      "111         4123  westy     4535.3         4785.3\n",
      "112        16822   kawa    18504.2        18754.2\n",
      "113         9214   buru    10135.4        10385.4\n",
      "114        15222   kawa    16744.2        16994.2\n",
      "115        18602   kawa    20462.2        20712.2\n",
      "116        13831   buru    15214.1        15464.1\n",
      "117        12890   buru    14179.0        14429.0\n",
      "118        11540   buru    12694.0        12944.0\n",
      "119        14197   buru    15616.7        15866.7\n"
     ]
    }
   ],
   "source": [
    "tabulation= {\n",
    "    'House Rates': random_houses,\n",
    "    'Courts': house_court,\n",
    "    'Gov Rates': price_adjustment,\n",
    "    'Overall Price': overall_price\n",
    "}\n",
    "\n",
    "\n",
    "Moringa_Realty = pd.DataFrame(tabulation)\n",
    "\n",
    "print(\"\\Moringa_Realty:\")\n",
    "print(Moringa_Realty.tail(10))\n",
    "      "
   ]
  }
 ],
 "metadata": {
  "kernelspec": {
   "display_name": "Python 3 (ipykernel)",
   "language": "python",
   "name": "python3"
  },
  "language_info": {
   "codemirror_mode": {
    "name": "ipython",
    "version": 3
   },
   "file_extension": ".py",
   "mimetype": "text/x-python",
   "name": "python",
   "nbconvert_exporter": "python",
   "pygments_lexer": "ipython3",
   "version": "3.11.3"
  }
 },
 "nbformat": 4,
 "nbformat_minor": 5
}
