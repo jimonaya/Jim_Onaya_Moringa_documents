{
 "cells": [
  {
   "cell_type": "markdown",
   "id": "1f1c8ba4",
   "metadata": {},
   "source": [
    "##Lists\n",
    "* a collection of items in a particular order\n",
    "* we use the [], the square brackets, items separated by commas\n",
    "* the items dont have to be related in any way\n",
    "**syntax**: ```[item_1, item_2,....]```"
   ]
  },
  {
   "cell_type": "code",
   "execution_count": 1,
   "id": "48737782",
   "metadata": {},
   "outputs": [
    {
     "name": "stdout",
     "output_type": "stream",
     "text": [
      "['mango', 'banana', 'orange', 'apple']\n"
     ]
    }
   ],
   "source": [
    "#example\n",
    "fruits = ['mango', 'banana', 'orange', 'apple']\n",
    "print(fruits)"
   ]
  },
  {
   "cell_type": "code",
   "execution_count": 2,
   "id": "8b3a86b9",
   "metadata": {},
   "outputs": [
    {
     "data": {
      "text/plain": [
       "list"
      ]
     },
     "execution_count": 2,
     "metadata": {},
     "output_type": "execute_result"
    }
   ],
   "source": [
    "type(fruits)"
   ]
  },
  {
   "cell_type": "code",
   "execution_count": 3,
   "id": "96010474",
   "metadata": {},
   "outputs": [
    {
     "name": "stdout",
     "output_type": "stream",
     "text": [
      "[718390103, 28938988, 4566768]\n"
     ]
    }
   ],
   "source": [
    "phone_numbers = [718390103, 28938988,4566768,]\n",
    "print(phone_numbers)"
   ]
  },
  {
   "cell_type": "markdown",
   "id": "e9f6c1c4",
   "metadata": {},
   "source": [
    "lists are ordered collections, can access individual items in a list by telling the position of the item in the list- *index* index starts from 0 and not 1\n",
    "```list_name[index]"
   ]
  },
  {
   "cell_type": "code",
   "execution_count": 4,
   "id": "2cd2c05f",
   "metadata": {},
   "outputs": [
    {
     "name": "stdout",
     "output_type": "stream",
     "text": [
      "['mango', 'banana', 'orange', 'apple']\n"
     ]
    }
   ],
   "source": [
    "#example\n",
    "print(fruits)"
   ]
  },
  {
   "cell_type": "code",
   "execution_count": 6,
   "id": "28896c6f",
   "metadata": {},
   "outputs": [
    {
     "data": {
      "text/plain": [
       "'banana'"
      ]
     },
     "execution_count": 6,
     "metadata": {},
     "output_type": "execute_result"
    }
   ],
   "source": [
    "fruits[1]"
   ]
  },
  {
   "cell_type": "code",
   "execution_count": 12,
   "id": "a19dac7a",
   "metadata": {},
   "outputs": [
    {
     "ename": "IndexError",
     "evalue": "list index out of range",
     "output_type": "error",
     "traceback": [
      "\u001b[1;31m---------------------------------------------------------------------------\u001b[0m",
      "\u001b[1;31mIndexError\u001b[0m                                Traceback (most recent call last)",
      "Cell \u001b[1;32mIn[12], line 1\u001b[0m\n\u001b[1;32m----> 1\u001b[0m fruits[\u001b[38;5;241m8\u001b[39m]\n",
      "\u001b[1;31mIndexError\u001b[0m: list index out of range"
     ]
    }
   ],
   "source": [
    "fruits[8]"
   ]
  },
  {
   "cell_type": "code",
   "execution_count": 8,
   "id": "956963c3",
   "metadata": {},
   "outputs": [
    {
     "data": {
      "text/plain": [
       "'APPLE'"
      ]
     },
     "execution_count": 8,
     "metadata": {},
     "output_type": "execute_result"
    }
   ],
   "source": [
    "fruits[3].upper()"
   ]
  },
  {
   "cell_type": "code",
   "execution_count": 9,
   "id": "c03f8dd1",
   "metadata": {},
   "outputs": [
    {
     "name": "stdout",
     "output_type": "stream",
     "text": [
      "apple\n"
     ]
    }
   ],
   "source": [
    "#negative indexing\n",
    "print(fruits[-1])"
   ]
  },
  {
   "cell_type": "code",
   "execution_count": 10,
   "id": "71f16ef0",
   "metadata": {},
   "outputs": [
    {
     "data": {
      "text/plain": [
       "'orange'"
      ]
     },
     "execution_count": 10,
     "metadata": {},
     "output_type": "execute_result"
    }
   ],
   "source": [
    "fruits[-2]"
   ]
  },
  {
   "cell_type": "code",
   "execution_count": 11,
   "id": "3c508c0c",
   "metadata": {},
   "outputs": [
    {
     "data": {
      "text/plain": [
       "'Orange'"
      ]
     },
     "execution_count": 11,
     "metadata": {},
     "output_type": "execute_result"
    }
   ],
   "source": [
    "fruits[-2].title()"
   ]
  },
  {
   "cell_type": "code",
   "execution_count": 15,
   "id": "00eaa7e5",
   "metadata": {},
   "outputs": [
    {
     "name": "stdout",
     "output_type": "stream",
     "text": [
      "jim likes apple, especially the ripe one\n"
     ]
    }
   ],
   "source": [
    "#using individual items in a list\n",
    "message = f\"jim likes {fruits[3]}, especially the ripe one\"\n",
    "print(message)"
   ]
  },
  {
   "cell_type": "code",
   "execution_count": 17,
   "id": "8e3134d3",
   "metadata": {},
   "outputs": [
    {
     "name": "stdout",
     "output_type": "stream",
     "text": [
      "joy likes mangos and bananas\n"
     ]
    }
   ],
   "source": [
    "message_2 = f\"joy likes {fruits[0]}s and {fruits[1]}s\"\n",
    "print(message_2)"
   ]
  },
  {
   "cell_type": "code",
   "execution_count": null,
   "id": "0f9cb041",
   "metadata": {},
   "outputs": [],
   "source": [
    "# modifying, adding, removing otems in a list- lists are dynamic\n"
   ]
  },
  {
   "cell_type": "code",
   "execution_count": 19,
   "id": "04715c51",
   "metadata": {},
   "outputs": [
    {
     "name": "stdout",
     "output_type": "stream",
     "text": [
      "['supreme court', 'high cout']\n"
     ]
    }
   ],
   "source": [
    "#modifying\n",
    "courts = ['supreme court', 'high cout']\n",
    "print(courts)"
   ]
  },
  {
   "cell_type": "code",
   "execution_count": 20,
   "id": "392eaf0d",
   "metadata": {},
   "outputs": [
    {
     "name": "stdout",
     "output_type": "stream",
     "text": [
      "['supreme court', 'High Court']\n"
     ]
    }
   ],
   "source": [
    "courts[1] = \"High Court\"\n",
    "print(courts)\n"
   ]
  },
  {
   "cell_type": "code",
   "execution_count": 21,
   "id": "2d93dac2",
   "metadata": {},
   "outputs": [
    {
     "name": "stdout",
     "output_type": "stream",
     "text": [
      "['Supreme Court', 'High Court']\n"
     ]
    }
   ],
   "source": [
    "courts[0] = \"Supreme Court\"\n",
    "print(courts)"
   ]
  },
  {
   "cell_type": "code",
   "execution_count": 23,
   "id": "0672310e",
   "metadata": {},
   "outputs": [
    {
     "name": "stdout",
     "output_type": "stream",
     "text": [
      "['Supreme Court', 'High Court', 'Court of Appeal']\n"
     ]
    }
   ],
   "source": [
    "#adding items to list- introducing new items to the list\n",
    "# elements at the end of a list- .append(item)\n",
    "courts.append(\"Court of Appeal\")\n",
    "print(courts)"
   ]
  },
  {
   "cell_type": "code",
   "execution_count": 28,
   "id": "13e848ba",
   "metadata": {},
   "outputs": [
    {
     "name": "stdout",
     "output_type": "stream",
     "text": [
      "['mango', 'banana', 'orange', 'apple', 'pawpaw', 'pawpaw', 'pawpaw', 'melon', 'melon']\n"
     ]
    }
   ],
   "source": [
    "fruits.append(\"melon\")\n",
    "print(fruits)"
   ]
  },
  {
   "cell_type": "code",
   "execution_count": 29,
   "id": "bc6fab71",
   "metadata": {},
   "outputs": [
    {
     "name": "stdout",
     "output_type": "stream",
     "text": [
      "['Supreme Court', 'Kadhi Court', 'High Court', 'Court of Appeal']\n"
     ]
    }
   ],
   "source": [
    "#inserting elements\n",
    "courts.insert(1, \"Kadhi Court\")\n",
    "print(courts)"
   ]
  },
  {
   "cell_type": "code",
   "execution_count": 30,
   "id": "91f79a66",
   "metadata": {},
   "outputs": [
    {
     "name": "stdout",
     "output_type": "stream",
     "text": [
      "<enumerate object at 0x000002147CE198A0>\n"
     ]
    }
   ],
   "source": [
    "# display the items in a list with indexes\n",
    "print(enumerate(courts))"
   ]
  },
  {
   "cell_type": "code",
   "execution_count": 31,
   "id": "ffc702fe",
   "metadata": {},
   "outputs": [
    {
     "data": {
      "text/plain": [
       "['mango',\n",
       " 'banana',\n",
       " 'orange',\n",
       " 'apple',\n",
       " 'pawpaw',\n",
       " 'pawpaw',\n",
       " 'pawpaw',\n",
       " 'melon',\n",
       " 'melon']"
      ]
     },
     "execution_count": 31,
     "metadata": {},
     "output_type": "execute_result"
    }
   ],
   "source": [
    "#removing items in a list\n",
    "#1. using .pop()- removes at the end of a list\n",
    "fruits"
   ]
  },
  {
   "cell_type": "code",
   "execution_count": 33,
   "id": "cbab0147",
   "metadata": {},
   "outputs": [
    {
     "name": "stdout",
     "output_type": "stream",
     "text": [
      "['mango', 'banana', 'orange', 'apple', 'pawpaw', 'pawpaw', 'pawpaw']\n"
     ]
    }
   ],
   "source": [
    "fruits.pop()\n",
    "print(fruits)\n"
   ]
  },
  {
   "cell_type": "code",
   "execution_count": 34,
   "id": "4e3a9d5c",
   "metadata": {},
   "outputs": [
    {
     "data": {
      "text/plain": [
       "'pawpaw'"
      ]
     },
     "execution_count": 34,
     "metadata": {},
     "output_type": "execute_result"
    }
   ],
   "source": [
    "fruits.pop()"
   ]
  },
  {
   "cell_type": "code",
   "execution_count": 36,
   "id": "9be9cc94",
   "metadata": {},
   "outputs": [
    {
     "name": "stdout",
     "output_type": "stream",
     "text": [
      "['orange', 'apple', 'pawpaw', 'pawpaw']\n"
     ]
    }
   ],
   "source": [
    "#2 use .po(index)- removes a specific item in the position\n",
    "fruits.pop(0)\n",
    "print(fruits)"
   ]
  },
  {
   "cell_type": "code",
   "execution_count": 37,
   "id": "04c453f4",
   "metadata": {},
   "outputs": [
    {
     "name": "stdout",
     "output_type": "stream",
     "text": [
      "['apple', 'pawpaw', 'pawpaw']\n"
     ]
    }
   ],
   "source": [
    "# use .remove(item_value) to remove item by value\n",
    "fruits.remove(\"orange\")\n",
    "print(fruits)"
   ]
  },
  {
   "cell_type": "code",
   "execution_count": 38,
   "id": "8f016a36",
   "metadata": {},
   "outputs": [
    {
     "name": "stdout",
     "output_type": "stream",
     "text": [
      "['apple', 'pawpaw']\n"
     ]
    }
   ],
   "source": [
    "#using del statement\n",
    "del fruits[1]\n",
    "print(fruits)"
   ]
  },
  {
   "cell_type": "code",
   "execution_count": null,
   "id": "e90dcf33",
   "metadata": {},
   "outputs": [],
   "source": []
  },
  {
   "cell_type": "code",
   "execution_count": null,
   "id": "2f70cb11",
   "metadata": {},
   "outputs": [],
   "source": []
  }
 ],
 "metadata": {
  "kernelspec": {
   "display_name": "Python 3 (ipykernel)",
   "language": "python",
   "name": "python3"
  },
  "language_info": {
   "codemirror_mode": {
    "name": "ipython",
    "version": 3
   },
   "file_extension": ".py",
   "mimetype": "text/x-python",
   "name": "python",
   "nbconvert_exporter": "python",
   "pygments_lexer": "ipython3",
   "version": "3.11.3"
  }
 },
 "nbformat": 4,
 "nbformat_minor": 5
}
