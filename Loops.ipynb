{
 "cells": [
  {
   "cell_type": "markdown",
   "id": "be4c219e",
   "metadata": {},
   "source": [
    "## understand the concepts of loops\n",
    "* demonstrate the types of loops\n",
    "* discuss syntax\n",
    "* the concept of loop control\n",
    "* discuss iteration\n",
    "* discuss nested loops\n",
    "* enhancing loop functionality"
   ]
  },
  {
   "cell_type": "code",
   "execution_count": 1,
   "id": "9c0be583",
   "metadata": {},
   "outputs": [
    {
     "name": "stdout",
     "output_type": "stream",
     "text": [
      "1\n",
      "2\n",
      "3\n"
     ]
    }
   ],
   "source": [
    "#introduction to repetition- performing same set of instructions multiple times\n",
    "#eg *mpesa menu*\n",
    "#consider a scenario counting 1 to ten\n",
    "print(1)\n",
    "print(2)\n",
    "print(3)\n"
   ]
  },
  {
   "cell_type": "code",
   "execution_count": 5,
   "id": "7abd65ac",
   "metadata": {},
   "outputs": [
    {
     "name": "stdout",
     "output_type": "stream",
     "text": [
      "0\n",
      "10\n",
      "20\n",
      "30\n",
      "40\n",
      "50\n",
      "60\n",
      "70\n",
      "80\n",
      "90\n"
     ]
    }
   ],
   "source": [
    "for num in range(0, 100, 10):\n",
    "    print(num)"
   ]
  },
  {
   "cell_type": "code",
   "execution_count": 16,
   "id": "79c7734f",
   "metadata": {},
   "outputs": [
    {
     "name": "stdout",
     "output_type": "stream",
     "text": [
      "0\n",
      "1\n",
      "2\n",
      "3\n",
      "4\n"
     ]
    }
   ],
   "source": [
    "# while loops\n",
    "number = 0\n",
    "while (number < 5):\n",
    "    print(number)\n",
    "    number += 1"
   ]
  },
  {
   "cell_type": "code",
   "execution_count": 22,
   "id": "6892c37f",
   "metadata": {},
   "outputs": [
    {
     "name": "stdout",
     "output_type": "stream",
     "text": [
      "1\n",
      "2\n",
      "3\n",
      "4\n",
      "5\n",
      "6\n",
      "7\n",
      "8\n",
      "9\n"
     ]
    }
   ],
   "source": [
    "#list of numbers\n",
    "numbers = [1, 2, 3, 4, 5, 6, 7, 8, 9]\n",
    "#empty list\n",
    "even_numbers = []\n",
    "for i in numbers:\n",
    "    print(i)"
   ]
  },
  {
   "cell_type": "code",
   "execution_count": null,
   "id": "d485d34c",
   "metadata": {},
   "outputs": [],
   "source": []
  },
  {
   "cell_type": "code",
   "execution_count": 19,
   "id": "9f854faf",
   "metadata": {},
   "outputs": [
    {
     "name": "stdout",
     "output_type": "stream",
     "text": [
      "[1, 2, 3, 4, 5, 6, 7, 8, 9]\n"
     ]
    }
   ],
   "source": [
    "print(numbers)"
   ]
  },
  {
   "cell_type": "code",
   "execution_count": 20,
   "id": "6bdaf041",
   "metadata": {},
   "outputs": [
    {
     "name": "stdout",
     "output_type": "stream",
     "text": [
      "[2, 4, 6, 8]\n",
      "[1, 3, 5, 7, 9]\n"
     ]
    }
   ],
   "source": [
    "numbers = [1, 2, 3, 4, 5, 6, 7, 8, 9]\n",
    "even_numbers = []\n",
    "odd_numbers = []\n",
    "for i in numbers:\n",
    "    if (i%2 ==0):\n",
    "        even_numbers.append(i)\n",
    "    elif (i%2 ==1):\n",
    "        odd_numbers.append(i)\n",
    "print(even_numbers)\n",
    "print(odd_numbers)\n",
    "\n"
   ]
  },
  {
   "cell_type": "code",
   "execution_count": null,
   "id": "ba61978f",
   "metadata": {},
   "outputs": [],
   "source": [
    "numbers = [1, 2, 3, 4, 5, 6, 7, 8, 9]\n",
    "even_numbers = []\n",
    "odd_numbers = []\n",
    "for i in numbers:\n",
    "    if (i%2 ==0):\n",
    "        even_numbers.append(i)\n",
    "    elif (i%2 ==1):\n",
    "        odd_numbers.append(i)\n",
    "print(even_numbers)\n",
    "print(odd_numbers)"
   ]
  },
  {
   "cell_type": "code",
   "execution_count": 27,
   "id": "cd025d6d",
   "metadata": {},
   "outputs": [
    {
     "name": "stdout",
     "output_type": "stream",
     "text": [
      "[1, 3, 5, 7, 9]\n"
     ]
    }
   ],
   "source": [
    "odd_numbers = []\n",
    "for i in numbers:\n",
    "     if (i %2 != 0):\n",
    "        odd_numbers.append(i)\n",
    "print(odd_numbers)"
   ]
  },
  {
   "cell_type": "code",
   "execution_count": null,
   "id": "145cb3ba",
   "metadata": {},
   "outputs": [],
   "source": []
  },
  {
   "cell_type": "code",
   "execution_count": null,
   "id": "544d2534",
   "metadata": {},
   "outputs": [],
   "source": [
    "#sum numbers\n",
    "sum = 1 + 2 + 3 + 4 + 5 + 6 + 7 + 8 + 9 + 10\n",
    "\n"
   ]
  },
  {
   "cell_type": "code",
   "execution_count": 35,
   "id": "4d0aa284",
   "metadata": {
    "scrolled": true
   },
   "outputs": [
    {
     "name": "stdout",
     "output_type": "stream",
     "text": [
      "55\n"
     ]
    }
   ],
   "source": [
    "# using for-loop to find sum of numbers between 1 and 10\n",
    "sum = 0\n",
    "for i in range(1, 11):\n",
    "    sum += i\n",
    "print(sum)\n",
    "    "
   ]
  },
  {
   "cell_type": "markdown",
   "id": "7d36a801",
   "metadata": {},
   "source": [
    "## control flow\n",
    "* loops influence the order in which the instructions or programs are executed\n",
    "\n",
    "* when a loop is encountered, the program enters the loop body, executing the contained code.\n",
    "```loop made of condition:\n",
    "   contained block of code \n",
    "   to be executed\n",
    "   when the condition is True/False\n",
    " ```  \n",
    "      loop is done\n",
    "* at each iteration, the prog checks the loop condition. if the condition remains *True*, the loop body is executed again.\n",
    "* if it bocomes *False*, the prog exits the loop\n",
    "* iteration- refers to each cycle or repitition of a loop\n"
   ]
  },
  {
   "cell_type": "code",
   "execution_count": 39,
   "id": "ca3529e2",
   "metadata": {},
   "outputs": [
    {
     "name": "stdout",
     "output_type": "stream",
     "text": [
      "this is an example of a loop\n",
      "we are demonstrating while loops\n",
      "countdown value: 10!\n",
      "countdown value: 9!\n",
      "countdown value: 8!\n",
      "countdown value: 7!\n",
      "countdown value: 6!\n",
      "countdown value: 5!\n",
      "countdown value: 4!\n",
      "countdown value: 3!\n",
      "countdown value: 2!\n",
      "countdown value: 1!\n",
      "exit loop!! and program continues\n"
     ]
    }
   ],
   "source": [
    "#example\n",
    "print(\"this is an example of a loop\")\n",
    "print(\"we are demonstrating while loops\")\n",
    "#loop to simulate a count down\n",
    "countdown = 10\n",
    "while (countdown > 0):\n",
    "    print(f\"countdown value: {countdown}!\")\n",
    "    countdown -= 1\n",
    "print(\"exit loop!! and program continues\")\n"
   ]
  },
  {
   "cell_type": "code",
   "execution_count": 40,
   "id": "31c9d263",
   "metadata": {},
   "outputs": [
    {
     "name": "stdout",
     "output_type": "stream",
     "text": [
      "5\n",
      "10\n"
     ]
    }
   ],
   "source": [
    "a = 5\n",
    "print(a)\n",
    "a = a + 5\n",
    "print(a)"
   ]
  },
  {
   "cell_type": "code",
   "execution_count": 44,
   "id": "0258ab10",
   "metadata": {
    "scrolled": true
   },
   "outputs": [
    {
     "ename": "SyntaxError",
     "evalue": "invalid syntax (1498330527.py, line 1)",
     "output_type": "error",
     "traceback": [
      "\u001b[1;36m  Cell \u001b[1;32mIn[44], line 1\u001b[1;36m\u001b[0m\n\u001b[1;33m    while a += 5:\u001b[0m\n\u001b[1;37m            ^\u001b[0m\n\u001b[1;31mSyntaxError\u001b[0m\u001b[1;31m:\u001b[0m invalid syntax\n"
     ]
    }
   ],
   "source": [
    "while a += 5:\n",
    "    print(a)"
   ]
  },
  {
   "cell_type": "code",
   "execution_count": null,
   "id": "19b8250e",
   "metadata": {},
   "outputs": [],
   "source": []
  },
  {
   "cell_type": "markdown",
   "id": "6e4c8b93",
   "metadata": {},
   "source": [
    "## types of loops\n",
    "* there are two main types, ```for``` and ```while``` loops\n",
    "* choise depends on the knwoledge of the number of iteratiions in advace\n",
    "* when you know the number of iteratios- use while, otherwise use for loop\n",
    "* you can use either- its not a must\n",
    "#syntax"
   ]
  },
  {
   "cell_type": "markdown",
   "id": "fd0ea823",
   "metadata": {},
   "source": [
    "# *for* loop\n",
    "```for item in seq:\n",
    "       code to be executed for each item\n",
    "       # ...\n",
    "```\n",
    "   * `for` : the key word for start of loop.\n",
    "   * `item`: is a variable that represents the    current item in the system during each iteration of the loop\n",
    "\n"
   ]
  },
  {
   "cell_type": "code",
   "execution_count": 26,
   "id": "99278613",
   "metadata": {},
   "outputs": [
    {
     "ename": "NameError",
     "evalue": "name 'joseph' is not defined",
     "output_type": "error",
     "traceback": [
      "\u001b[1;31m---------------------------------------------------------------------------\u001b[0m",
      "\u001b[1;31mNameError\u001b[0m                                 Traceback (most recent call last)",
      "Cell \u001b[1;32mIn[26], line 1\u001b[0m\n\u001b[1;32m----> 1\u001b[0m name \u001b[38;5;241m=\u001b[39m joseph\n\u001b[0;32m      2\u001b[0m \u001b[38;5;28mprint\u001b[39m(name\u001b[38;5;241m.\u001b[39mletters())\n",
      "\u001b[1;31mNameError\u001b[0m: name 'joseph' is not defined"
     ]
    }
   ],
   "source": [
    "name = joseph\n",
    "print(name.letters())\n"
   ]
  },
  {
   "cell_type": "code",
   "execution_count": null,
   "id": "b9d28e01",
   "metadata": {},
   "outputs": [],
   "source": [
    "high courts = [\"kisumu\", \"kisii,\", \"nyamira\", \"homabay\", \"migori\", \"kitale\"]"
   ]
  },
  {
   "cell_type": "code",
   "execution_count": null,
   "id": "22c1c949",
   "metadata": {},
   "outputs": [],
   "source": []
  },
  {
   "cell_type": "markdown",
   "id": "2fcdac9b",
   "metadata": {},
   "source": [
    "### For Loop\n",
    "\n",
    "* Basic syntax \n",
    "\n",
    "```\n",
    "for item in sequence:\n",
    "    # code to be executed for each item\n",
    "    # ...\n",
    "```\n",
    "\n",
    "* `for`: Keyword that signals the start of a for loop.\n",
    "* `item`: Is a variable that represents the current item in the sequence during each iteration of the loop.\n",
    "* `in` : A keyword used to specify that you are iterating *in* the given sequence.\n",
    "* `sequence` : Collection of items that you want to iterate over (e.g., list, string, tuple, or range).\n",
    "* `:` : Signifies the start of the ind\n",
    "dented code block that will be executed for each iteration of the loop. \n",
    "\n",
    "Inside the indented code block, you place the actions or operations that you want to perform on each item in the sequence.The loop will automatically iterate through the entire sequence, executing the code block for each item."
   ]
  },
  {
   "cell_type": "code",
   "execution_count": 29,
   "id": "95d6cf84",
   "metadata": {},
   "outputs": [
    {
     "name": "stdout",
     "output_type": "stream",
     "text": [
      "kisumu\n",
      "kisii,\n",
      "nyamira\n",
      "homabay\n",
      "migori\n"
     ]
    }
   ],
   "source": [
    "high_courts = [\"kisumu\", \"kisii,\", \"nyamira\", \"homabay\", \"migori\", \"kitale\"]\n",
    "for court in high_courts:\n",
    "    print(court)\n",
    "    if (court == \"migori\"):\n",
    "        break;\n",
    "\n",
    "\n",
    "\n"
   ]
  },
  {
   "cell_type": "code",
   "execution_count": 31,
   "id": "e183a860",
   "metadata": {},
   "outputs": [
    {
     "name": "stdout",
     "output_type": "stream",
     "text": [
      "['kisumu', 'kisii,', 'nyamira', 'homabay', 'migori', 'kitale']\n",
      "homabay\n"
     ]
    }
   ],
   "source": [
    "#seq types\n",
    "print(high_courts)\n",
    "print(high_courts[3])\n"
   ]
  },
  {
   "cell_type": "code",
   "execution_count": 32,
   "id": "03031e17",
   "metadata": {},
   "outputs": [
    {
     "name": "stdout",
     "output_type": "stream",
     "text": [
      "homabay\n"
     ]
    }
   ],
   "source": [
    "print(high_courts[3])"
   ]
  },
  {
   "cell_type": "code",
   "execution_count": 38,
   "id": "8bd9c785",
   "metadata": {},
   "outputs": [
    {
     "name": "stdout",
     "output_type": "stream",
     "text": [
      "KISUMU\n",
      "KISII,\n",
      "NYAMIRA\n",
      "HOMABAY\n",
      "MIGORI\n",
      "KITALE\n"
     ]
    }
   ],
   "source": [
    "for court in high_courts:\n",
    "    upper_case_court = court.upper()\n",
    "    print(upper_case_court)"
   ]
  },
  {
   "cell_type": "code",
   "execution_count": 39,
   "id": "8181e2fd",
   "metadata": {},
   "outputs": [
    {
     "name": "stdout",
     "output_type": "stream",
     "text": [
      "kitale\n"
     ]
    }
   ],
   "source": [
    "print(court)"
   ]
  },
  {
   "cell_type": "markdown",
   "id": "0cd672f2",
   "metadata": {},
   "source": [
    "#tuple- is similar to lists but they are immutable\n",
    "* their contents cnnot change\n",
    "* syntax tuple_name"
   ]
  },
  {
   "cell_type": "code",
   "execution_count": 40,
   "id": "127ef66b",
   "metadata": {},
   "outputs": [
    {
     "name": "stdout",
     "output_type": "stream",
     "text": [
      "('kocheli', 'solo', 'nyambane', 'yussuf')\n"
     ]
    }
   ],
   "source": [
    "noise_makers = (\"kocheli\", \"solo\", \"nyambane\", \"yussuf\")\n",
    "print(noise_makers)"
   ]
  },
  {
   "cell_type": "code",
   "execution_count": 41,
   "id": "ac6afd4e",
   "metadata": {},
   "outputs": [
    {
     "name": "stdout",
     "output_type": "stream",
     "text": [
      "kocheli\n",
      "solo\n",
      "nyambane\n",
      "yussuf\n"
     ]
    }
   ],
   "source": [
    "for noise_maker in noise_makers:\n",
    "    print(noise_maker)"
   ]
  },
  {
   "cell_type": "code",
   "execution_count": 1,
   "id": "7bba24c1",
   "metadata": {},
   "outputs": [
    {
     "name": "stdout",
     "output_type": "stream",
     "text": [
      "j\n",
      "u\n",
      "d\n",
      "i\n",
      "c\n",
      "i\n",
      "a\n",
      "r\n",
      "y\n"
     ]
    }
   ],
   "source": [
    "word = \"judiciary\"\n",
    "for char in word:\n",
    "    print(char)"
   ]
  },
  {
   "cell_type": "code",
   "execution_count": 2,
   "id": "bb20c163",
   "metadata": {},
   "outputs": [
    {
     "name": "stdout",
     "output_type": "stream",
     "text": [
      "['j', 'u', 'd', 'i', 'c', 'i', 'a', 'r', 'y']\n"
     ]
    }
   ],
   "source": [
    "word_char = []\n",
    "for char in word:\n",
    "    word_char.append(char)\n",
    "print(word_char)"
   ]
  },
  {
   "cell_type": "code",
   "execution_count": 3,
   "id": "98151009",
   "metadata": {},
   "outputs": [
    {
     "name": "stdout",
     "output_type": "stream",
     "text": [
      "[1, 3, 5, 7, 9]\n"
     ]
    }
   ],
   "source": [
    "odd_nums = []\n",
    "for num in range(1, 10):\n",
    "    if (num %2 == 1):\n",
    "        odd_nums.append(num)\n",
    "print(odd_nums)\n",
    "     "
   ]
  },
  {
   "cell_type": "code",
   "execution_count": 13,
   "id": "868fc67f",
   "metadata": {},
   "outputs": [
    {
     "name": "stdout",
     "output_type": "stream",
     "text": [
      "      * \n",
      "    * * \n",
      "  * * * \n",
      "* * * * \n"
     ]
    }
   ],
   "source": [
    "rows = 4\n",
    "for i in range(0, rows):\n",
    "    for j in range(rows -i -1):\n",
    "        print(\" \", end=' ')\n",
    "        \n",
    "    for k in range(0, i+1):\n",
    "        print(\"*\", end=' ')\n",
    "    print()"
   ]
  },
  {
   "cell_type": "markdown",
   "id": "99f6a297",
   "metadata": {},
   "source": [
    "## Break and continue"
   ]
  },
  {
   "cell_type": "markdown",
   "id": "e53a790d",
   "metadata": {},
   "source": [
    "* they are control flow statements ( used to control the flow of loops)\n",
    "* **break** - used to immediately exit a loop when a certain condition is met\n",
    "when the prog encounters the ```break```statement, it terminates the loop and continues to execute the code after the loop. it is often used when a specific condition is satisfied and there is no need to continue looping further"
   ]
  },
  {
   "cell_type": "code",
   "execution_count": 14,
   "id": "b28a1331",
   "metadata": {},
   "outputs": [
    {
     "name": "stdout",
     "output_type": "stream",
     "text": [
      "0\n",
      "1\n",
      "2\n",
      "3\n",
      "4\n"
     ]
    }
   ],
   "source": [
    "for i in range(10):\n",
    "    if i == 5:\n",
    "        break\n",
    "    print(i)"
   ]
  },
  {
   "cell_type": "code",
   "execution_count": 15,
   "id": "5bf397bd",
   "metadata": {},
   "outputs": [
    {
     "name": "stdout",
     "output_type": "stream",
     "text": [
      "0\n",
      "1\n",
      "2\n",
      "3\n",
      "4\n",
      "5\n"
     ]
    }
   ],
   "source": [
    "for i in range(10):\n",
    "    print(i)\n",
    "    if i == 5:\n",
    "        break\n",
    "    "
   ]
  },
  {
   "cell_type": "markdown",
   "id": "6b81973c",
   "metadata": {},
   "source": [
    "* **Continue** - Used to skip the remaining code in the current iteration of a loop and move to the next iteration. Useful when you want to skip certain steps or conditions within a loop without exiting the loop entirely."
   ]
  },
  {
   "cell_type": "code",
   "execution_count": 16,
   "id": "3bb754db",
   "metadata": {},
   "outputs": [
    {
     "name": "stdout",
     "output_type": "stream",
     "text": [
      "['mahamri', 'mbaazi', 'tea']\n"
     ]
    }
   ],
   "source": [
    "breakfast = [\"eggs\", \"mahamri\", \"mbaazi\", \"vucheni\", \"tea\"]\n",
    "eugene_list = []\n",
    "for food in breakfast:\n",
    "    if (food == \"eggs\"):\n",
    "        continue\n",
    "    elif (food == \"vucheni\"):\n",
    "        continue\n",
    "    else:\n",
    "        eugene_list.append(food)\n",
    "print(eugene_list)"
   ]
  },
  {
   "cell_type": "code",
   "execution_count": 18,
   "id": "7027119f",
   "metadata": {},
   "outputs": [
    {
     "name": "stdout",
     "output_type": "stream",
     "text": [
      "0\n",
      "1\n",
      "2\n",
      "3\n",
      "4\n",
      "6\n",
      "7\n",
      "8\n",
      "9\n"
     ]
    }
   ],
   "source": [
    "for i in range(10):\n",
    "    \n",
    "    if i == 5:\n",
    "        continue\n",
    "    print(i)\n",
    "    "
   ]
  },
  {
   "cell_type": "code",
   "execution_count": 24,
   "id": "38335f7d",
   "metadata": {},
   "outputs": [
    {
     "name": "stdout",
     "output_type": "stream",
     "text": [
      "[]\n"
     ]
    }
   ],
   "source": [
    "breakfast = [\"eggs\", \"mahamri\", \"mbaazi\", \"vucheni\", \"tea\"]\n",
    "eugene_list = []\n",
    "for food in breakfast:\n",
    "    if (food == \"eggs\") or (food == \"vucheni\"):\n",
    "        continue\n",
    "        eugene_list.append(food)\n",
    "print(eugene_list)"
   ]
  },
  {
   "cell_type": "markdown",
   "id": "ec949159",
   "metadata": {},
   "source": [
    "### While Loops\n",
    "\n",
    "* Allow you to repeat a block of code as long as a certain condition remains `True`.\n",
    "* Basic Syntax \n",
    "```\n",
    "while condition:\n",
    "    # code block \n",
    "    # to execute\n",
    "```\n",
    "* It's crucial to make sure that the condition eventually becomes `False`; Reason - otherwise you will end up with an infinite loop, cause your program to run indefinitely(Well till your ram crashes)"
   ]
  },
  {
   "cell_type": "markdown",
   "id": "e7f77eea",
   "metadata": {},
   "source": [
    "#### While Loop key concepts \n",
    "\n",
    "1. **Initialization** - Initialize any variables that are used in loop condition before entering the loop.\n",
    "2. **Update our condition** - Inside the loop, make sure that the condition is modified in a way that leads to it eventually becoming `False`. Otherwise you will create an infinite loop."
   ]
  },
  {
   "cell_type": "code",
   "execution_count": 28,
   "id": "3fdf2cb4",
   "metadata": {},
   "outputs": [
    {
     "name": "stdout",
     "output_type": "stream",
     "text": [
      "1\n",
      "2\n",
      "3\n",
      "4\n",
      "5\n"
     ]
    }
   ],
   "source": [
    "#example- while loop to print numbers 1 to 5\n",
    "count = 1 #initialization\n",
    "while (count <= 5): #while loop condition\n",
    "    print(count)\n",
    "    count += 1 #updating condition after every iteration\n"
   ]
  },
  {
   "cell_type": "code",
   "execution_count": 33,
   "id": "48fd730a",
   "metadata": {},
   "outputs": [],
   "source": [
    "#example 2\n",
    "fruits = [\"apple\", \"banana\", \"cherry\", \"mango\", \"pawpaw\"]\n"
   ]
  },
  {
   "cell_type": "code",
   "execution_count": 34,
   "id": "b6e1d271",
   "metadata": {},
   "outputs": [
    {
     "name": "stdout",
     "output_type": "stream",
     "text": [
      "apple\n",
      "banana\n",
      "cherry\n",
      "mango\n",
      "pawpaw\n"
     ]
    }
   ],
   "source": [
    "#print everything in the list\n",
    "index = 0\n",
    "while (index < len(fruits)):\n",
    "    print(fruits[index])\n",
    "    index += 1"
   ]
  },
  {
   "cell_type": "code",
   "execution_count": 35,
   "id": "382aa0b6",
   "metadata": {},
   "outputs": [
    {
     "name": "stdout",
     "output_type": "stream",
     "text": [
      "apple\n",
      "banana\n",
      "cherry\n",
      "mango\n",
      "pawpaw\n"
     ]
    }
   ],
   "source": [
    "index = 0\n",
    "while (index < 5):\n",
    "    print(fruits[index])\n",
    "    index += 1"
   ]
  },
  {
   "cell_type": "code",
   "execution_count": 36,
   "id": "6c2dafe6",
   "metadata": {},
   "outputs": [
    {
     "name": "stdout",
     "output_type": "stream",
     "text": [
      "1 * 9 = 9\n",
      "2 * 9 = 18\n",
      "3 * 9 = 27\n",
      "4 * 9 = 36\n",
      "5 * 9 = 45\n",
      "6 * 9 = 54\n",
      "7 * 9 = 63\n",
      "8 * 9 = 72\n",
      "9 * 9 = 81\n",
      "10 * 9 = 90\n"
     ]
    }
   ],
   "source": [
    "#example 3- multiplication table of 9\n",
    "multiplier = 1\n",
    "while (multiplier <= 10):\n",
    "    product = multiplier * 9\n",
    "    print(f\"{multiplier} * 9 = {product}\")\n",
    "    multiplier += 1\n"
   ]
  },
  {
   "cell_type": "code",
   "execution_count": 38,
   "id": "3d7d9630",
   "metadata": {
    "scrolled": true
   },
   "outputs": [
    {
     "name": "stdout",
     "output_type": "stream",
     "text": [
      "* \n",
      "* * \n",
      "* * * \n",
      "* * * * \n",
      "* * * * * \n"
     ]
    }
   ],
   "source": [
    "# nested while loop\n",
    "rows = 5 # initialize\n",
    "i = 0\n",
    "while (i < 5):# condition for outer loop\n",
    "    j = 0# initialize variable for outer loop\n",
    "    while j <= i:# condition for inner loop\n",
    "        print(\"*\", end=\" \")\n",
    "        j += 1\n",
    "    print()\n",
    "    i += 1"
   ]
  },
  {
   "cell_type": "code",
   "execution_count": 39,
   "id": "de0e5a03",
   "metadata": {},
   "outputs": [
    {
     "name": "stdout",
     "output_type": "stream",
     "text": [
      "* \n",
      "* * \n",
      "* * * \n",
      "* * * * \n",
      "* * * * * \n"
     ]
    }
   ],
   "source": [
    "rows = 5\n",
    "i = 0\n",
    "\n",
    "while (i < rows):\n",
    "    j = 0\n",
    "    while j <= i:\n",
    "        print(\"*\", end=\" \")\n",
    "        j += 1\n",
    "    print()\n",
    "    i += 1"
   ]
  },
  {
   "cell_type": "code",
   "execution_count": null,
   "id": "e889e8c6",
   "metadata": {},
   "outputs": [],
   "source": [
    "#break and continue works the same way as in for loops"
   ]
  }
 ],
 "metadata": {
  "kernelspec": {
   "display_name": "Python 3 (ipykernel)",
   "language": "python",
   "name": "python3"
  },
  "language_info": {
   "codemirror_mode": {
    "name": "ipython",
    "version": 3
   },
   "file_extension": ".py",
   "mimetype": "text/x-python",
   "name": "python",
   "nbconvert_exporter": "python",
   "pygments_lexer": "ipython3",
   "version": "3.11.3"
  }
 },
 "nbformat": 4,
 "nbformat_minor": 5
}
