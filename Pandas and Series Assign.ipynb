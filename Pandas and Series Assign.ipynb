{
 "cells": [
  {
   "cell_type": "code",
   "execution_count": 1,
   "id": "bf92b19e-821a-4957-9635-03161337826b",
   "metadata": {
    "tags": []
   },
   "outputs": [],
   "source": [
    "#importing numpy and pandas\n",
    "import numpy as np\n",
    "import pandas as pd"
   ]
  },
  {
   "cell_type": "code",
   "execution_count": 4,
   "id": "15cc770f-bcb0-4993-9911-55009e79a238",
   "metadata": {
    "tags": []
   },
   "outputs": [
    {
     "data": {
      "text/plain": [
       "array([ 9616, 10121, 19030, 14160, 10601,  9931, 12533, 11950,  5672,\n",
       "       17585,  8326, 13624,  5643, 12439,  9344, 16107, 13360, 19188,\n",
       "       10017, 16345, 19780, 11113,  5015, 14415, 13328, 10350,  4548,\n",
       "       16911, 10709, 15847, 15071,  6920, 11893,  7013, 11093, 12974,\n",
       "       19607, 12156, 15921, 12496, 12349, 11653, 15750,  6868, 11481,\n",
       "       16791,  5254, 14929,  9189, 17809, 14979, 15388, 13619, 18284,\n",
       "       19956, 13993,  7135,  8903, 18116, 18185,  8606, 14252,  8940,\n",
       "        8139, 19477, 11363,  6939, 15755,  9439, 10485, 15685, 13102,\n",
       "        6260, 13043, 14347, 15888,  4591, 13589, 16922,  9616,  8167,\n",
       "       16936,  4633,  6616, 13994, 14518, 16655,  4115, 17591, 11642,\n",
       "        8651, 19477,  9495, 13892,  6547, 18549,  9621,  8571, 15597,\n",
       "       18318, 15355,  5156,  6162, 13344,  9490,  6671, 15058, 19162,\n",
       "       15522, 11539, 15288,  9255,  9201, 19328,  4883, 16542,  4236,\n",
       "       11162, 13364,  8654])"
      ]
     },
     "execution_count": 4,
     "metadata": {},
     "output_type": "execute_result"
    }
   ],
   "source": [
    "#generating random houses\n",
    "houses = np.random.randint(4000, 20000, size=120)\n",
    "houses"
   ]
  },
  {
   "cell_type": "code",
   "execution_count": 46,
   "id": "a928347e-665f-4088-9dcc-9728918755cb",
   "metadata": {
    "tags": []
   },
   "outputs": [
    {
     "data": {
      "text/plain": [
       "0       9616\n",
       "1      10121\n",
       "2      19030\n",
       "3      14160\n",
       "4      10601\n",
       "       ...  \n",
       "115    16542\n",
       "116     4236\n",
       "117    11162\n",
       "118    13364\n",
       "119     8654\n",
       "Name: House Price, Length: 120, dtype: int32"
      ]
     },
     "execution_count": 46,
     "metadata": {},
     "output_type": "execute_result"
    }
   ],
   "source": [
    "#houses series\n",
    "houses_series = pd.Series(houses, name='House Price')\n",
    "houses_series"
   ]
  },
  {
   "cell_type": "code",
   "execution_count": 9,
   "id": "ff09f826-b49b-4cc7-bf1e-6317a5786c22",
   "metadata": {
    "tags": []
   },
   "outputs": [
    {
     "data": {
      "text/plain": [
       "0     9616\n",
       "1    10121\n",
       "2    19030\n",
       "3    14160\n",
       "4    10601\n",
       "5     9931\n",
       "6    12533\n",
       "Name: Houses, dtype: int32"
      ]
     },
     "execution_count": 9,
     "metadata": {},
     "output_type": "execute_result"
    }
   ],
   "source": [
    "#displaying the first seven houses\n",
    "houses_series.head(7)"
   ]
  },
  {
   "cell_type": "code",
   "execution_count": 10,
   "id": "069971ac-edc7-4888-86d3-c5f9f72ed395",
   "metadata": {
    "tags": []
   },
   "outputs": [
    {
     "data": {
      "text/plain": [
       "113    19328\n",
       "114     4883\n",
       "115    16542\n",
       "116     4236\n",
       "117    11162\n",
       "118    13364\n",
       "119     8654\n",
       "Name: Houses, dtype: int32"
      ]
     },
     "execution_count": 10,
     "metadata": {},
     "output_type": "execute_result"
    }
   ],
   "source": [
    "#displaying the last seven houses\n",
    "houses_series.tail(7)"
   ]
  },
  {
   "cell_type": "code",
   "execution_count": 21,
   "id": "9bdf8c50-f465-41e1-849e-444a7294ad41",
   "metadata": {
    "tags": []
   },
   "outputs": [
    {
     "data": {
      "text/plain": [
       "'Kileleshwa'"
      ]
     },
     "execution_count": 21,
     "metadata": {},
     "output_type": "execute_result"
    }
   ],
   "source": [
    "def house_category(x):\n",
    "    if 20000>= x> 15000:\n",
    "        return \"Rhunda\"\n",
    "    elif 15000>= x >10000:\n",
    "        return \"Kileleshwa\"\n",
    "    elif 10000>= x >5000:\n",
    "        return \"Buru\"\n",
    "    elif 5000>= x >=1000:\n",
    "        return \"Donholm\"\n",
    "    else:\n",
    "        return \"No House Available\"\n",
    "house_category(12000)"
   ]
  },
  {
   "cell_type": "code",
   "execution_count": 22,
   "id": "383012cf-6615-4334-9f5c-93f6c48314cd",
   "metadata": {
    "tags": []
   },
   "outputs": [
    {
     "data": {
      "text/plain": [
       "'Donholm'"
      ]
     },
     "execution_count": 22,
     "metadata": {},
     "output_type": "execute_result"
    }
   ],
   "source": [
    "house_category(1000)"
   ]
  },
  {
   "cell_type": "code",
   "execution_count": 23,
   "id": "88e127a2-e137-4c80-bd9d-c6cbeb2dda66",
   "metadata": {
    "tags": []
   },
   "outputs": [
    {
     "data": {
      "text/plain": [
       "'Buru'"
      ]
     },
     "execution_count": 23,
     "metadata": {},
     "output_type": "execute_result"
    }
   ],
   "source": [
    "house_category(6000)"
   ]
  },
  {
   "cell_type": "code",
   "execution_count": 24,
   "id": "2a63cbe6-6099-4b1b-9767-50fb11f4177f",
   "metadata": {
    "tags": []
   },
   "outputs": [
    {
     "data": {
      "text/plain": [
       "'No House Available'"
      ]
     },
     "execution_count": 24,
     "metadata": {},
     "output_type": "execute_result"
    }
   ],
   "source": [
    "house_category(21000)"
   ]
  },
  {
   "cell_type": "code",
   "execution_count": 25,
   "id": "d2e9f7e5-32dd-4062-8bc8-66079a303a34",
   "metadata": {
    "tags": []
   },
   "outputs": [
    {
     "data": {
      "text/plain": [
       "'No House Available'"
      ]
     },
     "execution_count": 25,
     "metadata": {},
     "output_type": "execute_result"
    }
   ],
   "source": [
    "house_category(800)"
   ]
  },
  {
   "cell_type": "code",
   "execution_count": 26,
   "id": "8353e83c-da6d-410c-a092-39922b25e1c6",
   "metadata": {
    "tags": []
   },
   "outputs": [
    {
     "data": {
      "text/plain": [
       "'Rhunda'"
      ]
     },
     "execution_count": 26,
     "metadata": {},
     "output_type": "execute_result"
    }
   ],
   "source": [
    "house_category(18000)"
   ]
  },
  {
   "cell_type": "code",
   "execution_count": 30,
   "id": "7f1b0bde-d470-4455-a5db-edd000477eb9",
   "metadata": {
    "tags": []
   },
   "outputs": [
    {
     "data": {
      "text/plain": [
       "0            Buru\n",
       "1      Kileleshwa\n",
       "2          Rhunda\n",
       "3      Kileleshwa\n",
       "4      Kileleshwa\n",
       "          ...    \n",
       "115        Rhunda\n",
       "116       Donholm\n",
       "117    Kileleshwa\n",
       "118    Kileleshwa\n",
       "119          Buru\n",
       "Name: Houses, Length: 120, dtype: object"
      ]
     },
     "execution_count": 30,
     "metadata": {},
     "output_type": "execute_result"
    }
   ],
   "source": [
    "houses_locations = houses_series.apply(house_category)\n",
    "houses_locations"
   ]
  },
  {
   "cell_type": "code",
   "execution_count": 31,
   "id": "69613df5-117f-419d-8dff-3a5a0e9354f7",
   "metadata": {
    "tags": []
   },
   "outputs": [
    {
     "data": {
      "text/plain": [
       "0            Buru\n",
       "1      Kileleshwa\n",
       "2          Rhunda\n",
       "3      Kileleshwa\n",
       "4      Kileleshwa\n",
       "          ...    \n",
       "115        Rhunda\n",
       "116       Donholm\n",
       "117    Kileleshwa\n",
       "118    Kileleshwa\n",
       "119          Buru\n",
       "Name: House Location, Length: 120, dtype: object"
      ]
     },
     "execution_count": 31,
     "metadata": {},
     "output_type": "execute_result"
    }
   ],
   "source": [
    "houses_locations.rename(\"House Location\", inplace=True)"
   ]
  },
  {
   "cell_type": "code",
   "execution_count": 32,
   "id": "30e83e06-0b92-4710-8397-d9b736709b5b",
   "metadata": {
    "tags": []
   },
   "outputs": [
    {
     "data": {
      "text/plain": [
       "0            Buru\n",
       "1      Kileleshwa\n",
       "2          Rhunda\n",
       "3      Kileleshwa\n",
       "4      Kileleshwa\n",
       "          ...    \n",
       "115        Rhunda\n",
       "116       Donholm\n",
       "117    Kileleshwa\n",
       "118    Kileleshwa\n",
       "119          Buru\n",
       "Name: House Location, Length: 120, dtype: object"
      ]
     },
     "execution_count": 32,
     "metadata": {},
     "output_type": "execute_result"
    }
   ],
   "source": [
    "houses_locations"
   ]
  },
  {
   "cell_type": "code",
   "execution_count": 33,
   "id": "60ec534e-cdec-444b-a280-97fa07010138",
   "metadata": {
    "tags": []
   },
   "outputs": [
    {
     "data": {
      "text/plain": [
       "0      10577.6\n",
       "1      11133.1\n",
       "2      20933.0\n",
       "3      15576.0\n",
       "4      11661.1\n",
       "        ...   \n",
       "115    18196.2\n",
       "116     4659.6\n",
       "117    12278.2\n",
       "118    14700.4\n",
       "119     9519.4\n",
       "Name: Houses, Length: 120, dtype: float64"
      ]
     },
     "execution_count": 33,
     "metadata": {},
     "output_type": "execute_result"
    }
   ],
   "source": [
    "new_prices = houses_series.map(lambda i: i* 1.10)\n",
    "new_prices"
   ]
  },
  {
   "cell_type": "code",
   "execution_count": 48,
   "id": "32420fe3-56b7-4c1f-95f8-9508d3f78ee7",
   "metadata": {
    "tags": []
   },
   "outputs": [
    {
     "data": {
      "text/plain": [
       "0      10577.6\n",
       "1      11133.1\n",
       "2      20933.0\n",
       "3      15576.0\n",
       "4      11661.1\n",
       "        ...   \n",
       "115    18196.2\n",
       "116     4659.6\n",
       "117    12278.2\n",
       "118    14700.4\n",
       "119     9519.4\n",
       "Name: Adjusted House Price, Length: 120, dtype: float64"
      ]
     },
     "execution_count": 48,
     "metadata": {},
     "output_type": "execute_result"
    }
   ],
   "source": [
    "new_prices.rename('Adjusted House Price', inplace=True)"
   ]
  },
  {
   "cell_type": "code",
   "execution_count": 36,
   "id": "3394b3b7-59a0-4ae1-ae50-db1e900facdf",
   "metadata": {
    "tags": []
   },
   "outputs": [
    {
     "data": {
      "text/plain": [
       "0      10827.6\n",
       "1      11383.1\n",
       "2      21183.0\n",
       "3      15826.0\n",
       "4      11911.1\n",
       "        ...   \n",
       "115    18446.2\n",
       "116     4909.6\n",
       "117    12528.2\n",
       "118    14950.4\n",
       "119     9769.4\n",
       "Name: New Prices, Length: 120, dtype: float64"
      ]
     },
     "execution_count": 36,
     "metadata": {},
     "output_type": "execute_result"
    }
   ],
   "source": [
    "overall_prices = new_prices.apply(lambda y: y+250)\n",
    "overall_prices"
   ]
  },
  {
   "cell_type": "code",
   "execution_count": 38,
   "id": "8ae90f8b-dd21-42c9-90d8-c429d3c768a1",
   "metadata": {
    "tags": []
   },
   "outputs": [
    {
     "data": {
      "text/plain": [
       "0      10827.6\n",
       "1      11383.1\n",
       "2      21183.0\n",
       "3      15826.0\n",
       "4      11911.1\n",
       "        ...   \n",
       "115    18446.2\n",
       "116     4909.6\n",
       "117    12528.2\n",
       "118    14950.4\n",
       "119     9769.4\n",
       "Name: Overall House Price, Length: 120, dtype: float64"
      ]
     },
     "execution_count": 38,
     "metadata": {},
     "output_type": "execute_result"
    }
   ],
   "source": [
    "overall_prices.rename(\"Overall House Price\", inplace= True)\n",
    "overall_prices"
   ]
  },
  {
   "cell_type": "code",
   "execution_count": 51,
   "id": "e327795c-0584-4519-b793-cf2a6b8fced5",
   "metadata": {
    "tags": []
   },
   "outputs": [
    {
     "name": "stdout",
     "output_type": "stream",
     "text": [
      "Moringa Property\n"
     ]
    },
    {
     "data": {
      "text/html": [
       "<div>\n",
       "<style scoped>\n",
       "    .dataframe tbody tr th:only-of-type {\n",
       "        vertical-align: middle;\n",
       "    }\n",
       "\n",
       "    .dataframe tbody tr th {\n",
       "        vertical-align: top;\n",
       "    }\n",
       "\n",
       "    .dataframe thead th {\n",
       "        text-align: right;\n",
       "    }\n",
       "</style>\n",
       "<table border=\"1\" class=\"dataframe\">\n",
       "  <thead>\n",
       "    <tr style=\"text-align: right;\">\n",
       "      <th></th>\n",
       "      <th>House Location</th>\n",
       "      <th>House Price</th>\n",
       "      <th>Adjusted House Price</th>\n",
       "      <th>Overall House Price</th>\n",
       "    </tr>\n",
       "  </thead>\n",
       "  <tbody>\n",
       "    <tr>\n",
       "      <th>0</th>\n",
       "      <td>Buru</td>\n",
       "      <td>9616</td>\n",
       "      <td>10577.6</td>\n",
       "      <td>10827.6</td>\n",
       "    </tr>\n",
       "    <tr>\n",
       "      <th>1</th>\n",
       "      <td>Kileleshwa</td>\n",
       "      <td>10121</td>\n",
       "      <td>11133.1</td>\n",
       "      <td>11383.1</td>\n",
       "    </tr>\n",
       "    <tr>\n",
       "      <th>2</th>\n",
       "      <td>Rhunda</td>\n",
       "      <td>19030</td>\n",
       "      <td>20933.0</td>\n",
       "      <td>21183.0</td>\n",
       "    </tr>\n",
       "    <tr>\n",
       "      <th>3</th>\n",
       "      <td>Kileleshwa</td>\n",
       "      <td>14160</td>\n",
       "      <td>15576.0</td>\n",
       "      <td>15826.0</td>\n",
       "    </tr>\n",
       "    <tr>\n",
       "      <th>4</th>\n",
       "      <td>Kileleshwa</td>\n",
       "      <td>10601</td>\n",
       "      <td>11661.1</td>\n",
       "      <td>11911.1</td>\n",
       "    </tr>\n",
       "    <tr>\n",
       "      <th>...</th>\n",
       "      <td>...</td>\n",
       "      <td>...</td>\n",
       "      <td>...</td>\n",
       "      <td>...</td>\n",
       "    </tr>\n",
       "    <tr>\n",
       "      <th>115</th>\n",
       "      <td>Rhunda</td>\n",
       "      <td>16542</td>\n",
       "      <td>18196.2</td>\n",
       "      <td>18446.2</td>\n",
       "    </tr>\n",
       "    <tr>\n",
       "      <th>116</th>\n",
       "      <td>Donholm</td>\n",
       "      <td>4236</td>\n",
       "      <td>4659.6</td>\n",
       "      <td>4909.6</td>\n",
       "    </tr>\n",
       "    <tr>\n",
       "      <th>117</th>\n",
       "      <td>Kileleshwa</td>\n",
       "      <td>11162</td>\n",
       "      <td>12278.2</td>\n",
       "      <td>12528.2</td>\n",
       "    </tr>\n",
       "    <tr>\n",
       "      <th>118</th>\n",
       "      <td>Kileleshwa</td>\n",
       "      <td>13364</td>\n",
       "      <td>14700.4</td>\n",
       "      <td>14950.4</td>\n",
       "    </tr>\n",
       "    <tr>\n",
       "      <th>119</th>\n",
       "      <td>Buru</td>\n",
       "      <td>8654</td>\n",
       "      <td>9519.4</td>\n",
       "      <td>9769.4</td>\n",
       "    </tr>\n",
       "  </tbody>\n",
       "</table>\n",
       "<p>120 rows × 4 columns</p>\n",
       "</div>"
      ],
      "text/plain": [
       "    House Location  House Price  Adjusted House Price  Overall House Price\n",
       "0             Buru         9616               10577.6              10827.6\n",
       "1       Kileleshwa        10121               11133.1              11383.1\n",
       "2           Rhunda        19030               20933.0              21183.0\n",
       "3       Kileleshwa        14160               15576.0              15826.0\n",
       "4       Kileleshwa        10601               11661.1              11911.1\n",
       "..             ...          ...                   ...                  ...\n",
       "115         Rhunda        16542               18196.2              18446.2\n",
       "116        Donholm         4236                4659.6               4909.6\n",
       "117     Kileleshwa        11162               12278.2              12528.2\n",
       "118     Kileleshwa        13364               14700.4              14950.4\n",
       "119           Buru         8654                9519.4               9769.4\n",
       "\n",
       "[120 rows x 4 columns]"
      ]
     },
     "execution_count": 51,
     "metadata": {},
     "output_type": "execute_result"
    }
   ],
   "source": [
    "Moringa_Property = pd.DataFrame({\n",
    "    houses_locations.name: houses_locations,\n",
    "    houses_series.name: houses,\n",
    "    new_prices.name: new_prices,\n",
    "    overall_prices.name: overall_prices\n",
    "})\n",
    "print(\"Moringa Property\")\n",
    "Moringa_Property"
   ]
  }
 ],
 "metadata": {
  "kernelspec": {
   "display_name": "Python 3 (ipykernel)",
   "language": "python",
   "name": "python3"
  },
  "language_info": {
   "codemirror_mode": {
    "name": "ipython",
    "version": 3
   },
   "file_extension": ".py",
   "mimetype": "text/x-python",
   "name": "python",
   "nbconvert_exporter": "python",
   "pygments_lexer": "ipython3",
   "version": "3.11.3"
  }
 },
 "nbformat": 4,
 "nbformat_minor": 5
}
