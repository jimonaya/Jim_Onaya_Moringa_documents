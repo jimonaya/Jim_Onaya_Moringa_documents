{
 "cells": [
  {
   "cell_type": "code",
   "execution_count": 18,
   "id": "44886382-bd78-47b3-832d-51853d985969",
   "metadata": {
    "tags": []
   },
   "outputs": [
    {
     "name": "stdout",
     "output_type": "stream",
     "text": [
      "Welcome to My Holidays To-do List\n",
      "1. Add Task\n",
      "2. Mark Task as Done\n",
      "3. List Task\n",
      "4. Remove Task\n",
      "5. Quit\n"
     ]
    }
   ],
   "source": [
    "Task = []\n",
    "def welcome_menu(): \n",
    "    print(\"Welcome to My Holidays To-do List\")\n",
    "    print(\"1. Add Task\")\n",
    "    print(\"2. Mark Task as Done\")\n",
    "    print(\"3. List Task\")\n",
    "    print(\"4. Remove Task\")\n",
    "    print(\"5. Quit\")\n",
    "welcome_menu()"
   ]
  },
  {
   "cell_type": "code",
   "execution_count": 54,
   "id": "5ef1a546-4680-4169-9306-e617562dbc02",
   "metadata": {
    "tags": []
   },
   "outputs": [
    {
     "name": "stdout",
     "output_type": "stream",
     "text": [
      "Working in the shamba!\n"
     ]
    }
   ],
   "source": [
    "def add_Task(Task_description):\n",
    "    Task.append({\"description\": Task_description, \"done\": False})\n",
    "    print(\"Working in the shamba!\")\n",
    "add_Task(1)"
   ]
  },
  {
   "cell_type": "code",
   "execution_count": 55,
   "id": "dc598bd0-27c2-425a-8741-5d581d1016f4",
   "metadata": {
    "tags": []
   },
   "outputs": [
    {
     "name": "stdout",
     "output_type": "stream",
     "text": [
      "Task done.\n"
     ]
    }
   ],
   "source": [
    "def Task_completed(Task_index): \n",
    "    if 0 <= Task_index < len(Task):\n",
    "        if Task[Task_index][\"done\"]:\n",
    "            print(\"Task is already marked as done.\")\n",
    "        else:\n",
    "            Task[Task_index][\"done\"] = True\n",
    "            print(\"Task done.\")\n",
    "    else:\n",
    "        print(\"Invalid Task index.\")\n",
    "Task_completed(2)"
   ]
  },
  {
   "cell_type": "code",
   "execution_count": 57,
   "id": "74ae059c-1b75-4a73-b583-7a50401b8222",
   "metadata": {
    "tags": []
   },
   "outputs": [
    {
     "name": "stdout",
     "output_type": "stream",
     "text": [
      "Task:\n"
     ]
    },
    {
     "ename": "UnboundLocalError",
     "evalue": "cannot access local variable 'Task' where it is not associated with a value",
     "output_type": "error",
     "traceback": [
      "\u001b[1;31m---------------------------------------------------------------------------\u001b[0m",
      "\u001b[1;31mUnboundLocalError\u001b[0m                         Traceback (most recent call last)",
      "Cell \u001b[1;32mIn[57], line 6\u001b[0m\n\u001b[0;32m      4\u001b[0m         status \u001b[38;5;241m=\u001b[39m \u001b[38;5;124m\"\u001b[39m\u001b[38;5;124mDone\u001b[39m\u001b[38;5;124m\"\u001b[39m \u001b[38;5;28;01mif\u001b[39;00m Task[\u001b[38;5;124m\"\u001b[39m\u001b[38;5;124mdone\u001b[39m\u001b[38;5;124m\"\u001b[39m] \u001b[38;5;28;01melse\u001b[39;00m \u001b[38;5;124m\"\u001b[39m\u001b[38;5;124mNot Done\u001b[39m\u001b[38;5;124m\"\u001b[39m\n\u001b[0;32m      5\u001b[0m         \u001b[38;5;28mprint\u001b[39m(\u001b[38;5;124mf\u001b[39m\u001b[38;5;124m\"\u001b[39m\u001b[38;5;132;01m{\u001b[39;00mindex\u001b[38;5;132;01m}\u001b[39;00m\u001b[38;5;124m. \u001b[39m\u001b[38;5;132;01m{\u001b[39;00mTask[\u001b[38;5;124m'\u001b[39m\u001b[38;5;124mNot done\u001b[39m\u001b[38;5;124m'\u001b[39m]\u001b[38;5;132;01m}\u001b[39;00m\u001b[38;5;124m - \u001b[39m\u001b[38;5;132;01m{\u001b[39;00mstatus\u001b[38;5;132;01m}\u001b[39;00m\u001b[38;5;124m\"\u001b[39m)\n\u001b[1;32m----> 6\u001b[0m list_Tasks()\n",
      "Cell \u001b[1;32mIn[57], line 3\u001b[0m, in \u001b[0;36mlist_Tasks\u001b[1;34m()\u001b[0m\n\u001b[0;32m      1\u001b[0m \u001b[38;5;28;01mdef\u001b[39;00m \u001b[38;5;21mlist_Tasks\u001b[39m(): \n\u001b[0;32m      2\u001b[0m     \u001b[38;5;28mprint\u001b[39m(\u001b[38;5;124m\"\u001b[39m\u001b[38;5;124mTask:\u001b[39m\u001b[38;5;124m\"\u001b[39m)\n\u001b[1;32m----> 3\u001b[0m     \u001b[38;5;28;01mfor\u001b[39;00m index, Task \u001b[38;5;129;01min\u001b[39;00m \u001b[38;5;28menumerate\u001b[39m(Task):\n\u001b[0;32m      4\u001b[0m         status \u001b[38;5;241m=\u001b[39m \u001b[38;5;124m\"\u001b[39m\u001b[38;5;124mDone\u001b[39m\u001b[38;5;124m\"\u001b[39m \u001b[38;5;28;01mif\u001b[39;00m Task[\u001b[38;5;124m\"\u001b[39m\u001b[38;5;124mdone\u001b[39m\u001b[38;5;124m\"\u001b[39m] \u001b[38;5;28;01melse\u001b[39;00m \u001b[38;5;124m\"\u001b[39m\u001b[38;5;124mNot Done\u001b[39m\u001b[38;5;124m\"\u001b[39m\n\u001b[0;32m      5\u001b[0m         \u001b[38;5;28mprint\u001b[39m(\u001b[38;5;124mf\u001b[39m\u001b[38;5;124m\"\u001b[39m\u001b[38;5;132;01m{\u001b[39;00mindex\u001b[38;5;132;01m}\u001b[39;00m\u001b[38;5;124m. \u001b[39m\u001b[38;5;132;01m{\u001b[39;00mTask[\u001b[38;5;124m'\u001b[39m\u001b[38;5;124mNot done\u001b[39m\u001b[38;5;124m'\u001b[39m]\u001b[38;5;132;01m}\u001b[39;00m\u001b[38;5;124m - \u001b[39m\u001b[38;5;132;01m{\u001b[39;00mstatus\u001b[38;5;132;01m}\u001b[39;00m\u001b[38;5;124m\"\u001b[39m)\n",
      "\u001b[1;31mUnboundLocalError\u001b[0m: cannot access local variable 'Task' where it is not associated with a value"
     ]
    }
   ],
   "source": [
    "def list_Tasks(): \n",
    "    print(\"Task:\")\n",
    "    for index, Task in enumerate(Task):\n",
    "        status = \"Done\" if Task[\"done\"] else \"Not Done\"\n",
    "        print(f\"{index}. {Task['Not done']} - {status}\")\n",
    "list_Tasks()"
   ]
  },
  {
   "cell_type": "code",
   "execution_count": 58,
   "id": "b2ba3438-c9b3-49ac-9dfd-dd1f015d424c",
   "metadata": {
    "tags": []
   },
   "outputs": [
    {
     "name": "stdout",
     "output_type": "stream",
     "text": [
      "Task '1' removed.\n"
     ]
    }
   ],
   "source": [
    "def remove_Task(Task_index): \n",
    "    if 0 <= Task_index < len(Task):\n",
    "        removed_Task = Task.pop(Task_index)\n",
    "        print(f\"Task '{removed_Task['description']}' removed.\")\n",
    "    else:\n",
    "        print(\"Invalid Task\")\n",
    "remove_Task(0)\n"
   ]
  },
  {
   "cell_type": "code",
   "execution_count": 60,
   "id": "51714df3-5024-4d69-9160-ba5137bbc362",
   "metadata": {
    "tags": []
   },
   "outputs": [
    {
     "name": "stdout",
     "output_type": "stream",
     "text": [
      "Welcome to My Holidays To-do List\n",
      "1. Add Task\n",
      "2. Mark Task as Done\n",
      "3. List Task\n",
      "4. Remove Task\n",
      "5. Quit\n"
     ]
    },
    {
     "name": "stdin",
     "output_type": "stream",
     "text": [
      "Select an option:  1\n",
      "Enter Task description:  working in the shamba\n"
     ]
    },
    {
     "name": "stdout",
     "output_type": "stream",
     "text": [
      "Working in the shamba!\n",
      "Welcome to My Holidays To-do List\n",
      "1. Add Task\n",
      "2. Mark Task as Done\n",
      "3. List Task\n",
      "4. Remove Task\n",
      "5. Quit\n"
     ]
    },
    {
     "name": "stdin",
     "output_type": "stream",
     "text": [
      "Select an option:  1\n",
      "Enter Task description:  working in the shamba\n"
     ]
    },
    {
     "name": "stdout",
     "output_type": "stream",
     "text": [
      "Working in the shamba!\n",
      "Welcome to My Holidays To-do List\n",
      "1. Add Task\n",
      "2. Mark Task as Done\n",
      "3. List Task\n",
      "4. Remove Task\n",
      "5. Quit\n"
     ]
    },
    {
     "name": "stdin",
     "output_type": "stream",
     "text": [
      "Select an option:  5\n"
     ]
    },
    {
     "name": "stdout",
     "output_type": "stream",
     "text": [
      "Thanks for using or updating the Task manager. Goodbye and great day!\n"
     ]
    }
   ],
   "source": [
    "def main(): # This is the main / overaching function that runs all the other sub-functions in the manager\n",
    "    while True:\n",
    "        welcome_menu()\n",
    "        choice = input(\"Select an option: \")\n",
    "\n",
    "        if choice == \"1\":\n",
    "            Task_description = input(\"Enter Task description: \")\n",
    "            add_Task(Task_description)\n",
    "        elif choice == \"2\":\n",
    "            Task_index = int(input(\"Enter Task index to mark as done: \"))\n",
    "            mark_Task_completed(Task_index)\n",
    "        elif choice == \"3\":\n",
    "            list_Task()\n",
    "        elif choice == \"4\":\n",
    "            Task_index = int(input(\"Enter Task index to remove: \"))\n",
    "            remove_Task(Task_index)\n",
    "        elif choice == \"5\":\n",
    "            print(\"Thanks for using or updating the Task manager. Goodbye and great day!\")\n",
    "            break\n",
    "        else:\n",
    "            print(\"Invalid choice. Please select a valid option.\")\n",
    "\n",
    "if __name__ == \"__main__\":\n",
    "    main()\n"
   ]
  },
  {
   "cell_type": "code",
   "execution_count": null,
   "id": "8d620e17-82e7-4c24-9a04-5e7910350d5c",
   "metadata": {},
   "outputs": [],
   "source": []
  }
 ],
 "metadata": {
  "kernelspec": {
   "display_name": "Python 3 (ipykernel)",
   "language": "python",
   "name": "python3"
  },
  "language_info": {
   "codemirror_mode": {
    "name": "ipython",
    "version": 3
   },
   "file_extension": ".py",
   "mimetype": "text/x-python",
   "name": "python",
   "nbconvert_exporter": "python",
   "pygments_lexer": "ipython3",
   "version": "3.11.3"
  }
 },
 "nbformat": 4,
 "nbformat_minor": 5
}
