{
 "cells": [
  {
   "cell_type": "code",
   "execution_count": 11,
   "id": "adf29126",
   "metadata": {},
   "outputs": [
    {
     "name": "stdout",
     "output_type": "stream",
     "text": [
      "{'Name': 'Jim Onaya', 'ID': 28220868, 'Gender': 'Male'}\n"
     ]
    }
   ],
   "source": [
    "#dictionaries- data types that store data using \"key value\" pairs- use {} to define\n",
    "student = {\n",
    "    \"Name\" : \"Jim Onaya\",\n",
    "    \"ID\" : 28220868,\n",
    "    \"Gender\" : \"Male\"\n",
    "}\n",
    "print(student)\n"
   ]
  },
  {
   "cell_type": "code",
   "execution_count": 12,
   "id": "ec8a008a",
   "metadata": {},
   "outputs": [
    {
     "name": "stdout",
     "output_type": "stream",
     "text": [
      "{'Sky team': ['nyambane', 'eugine', 'yussuf'], 'friends of sky team': ['martin', 'lumumba', 'chemu'], 'kitchen cabinet': ['maggy', 'eva', 'linda'], 'office keepers': ['kocheli', 'john', 'ngobs']}\n"
     ]
    }
   ],
   "source": [
    "office = {\n",
    "    \"Sky team\" : [\"nyambane\", \"eugine\", \"yussuf\"],\n",
    "    \"friends of sky team\" : [\"martin\", \"lumumba\", \"chemu\"],\n",
    "    \"kitchen cabinet\" : [\"maggy\", \"eva\", \"linda\"],\n",
    "    \"office keepers\" : [\"kocheli\", \"john\", \"ngobs\"]\n",
    "}\n",
    "print(office)"
   ]
  },
  {
   "cell_type": "code",
   "execution_count": 13,
   "id": "77f2019c",
   "metadata": {},
   "outputs": [
    {
     "data": {
      "text/plain": [
       "dict_keys(['Sky team', 'friends of sky team', 'kitchen cabinet', 'office keepers'])"
      ]
     },
     "execution_count": 13,
     "metadata": {},
     "output_type": "execute_result"
    }
   ],
   "source": [
    "#keys of the dictionary\n",
    "office.keys()"
   ]
  },
  {
   "cell_type": "code",
   "execution_count": 15,
   "id": "fd4b0fdf",
   "metadata": {},
   "outputs": [
    {
     "data": {
      "text/plain": [
       "['kocheli', 'john', 'ngobs']"
      ]
     },
     "execution_count": 15,
     "metadata": {},
     "output_type": "execute_result"
    }
   ],
   "source": [
    "#access values in a dictionary using keys\n",
    "#syntax dictionar_name[key]\n",
    "office[\"office keepers\"]\n"
   ]
  },
  {
   "cell_type": "code",
   "execution_count": 17,
   "id": "a1f446eb",
   "metadata": {},
   "outputs": [
    {
     "name": "stdout",
     "output_type": "stream",
     "text": [
      "['nyambane', 'eugine', 'yussuf']\n"
     ]
    }
   ],
   "source": [
    "print(office[\"Sky team\"])"
   ]
  },
  {
   "cell_type": "code",
   "execution_count": 18,
   "id": "5068da8a",
   "metadata": {},
   "outputs": [
    {
     "name": "stdout",
     "output_type": "stream",
     "text": [
      "{'Sky team': ['nyambane', 'eugine', 'yussuf', 'kirui'], 'friends of sky team': ['martin', 'lumumba', 'chemu'], 'kitchen cabinet': ['maggy', 'eva', 'linda'], 'office keepers': ['kocheli', 'john', 'ngobs']}\n"
     ]
    }
   ],
   "source": [
    "office[\"Sky team\"].append(\"kirui\")\n",
    "print(office)"
   ]
  },
  {
   "cell_type": "code",
   "execution_count": 20,
   "id": "46a88190",
   "metadata": {},
   "outputs": [
    {
     "name": "stdout",
     "output_type": "stream",
     "text": [
      "{'Sky team': ['nyambane', 'eugine', 'yussuf', 'kirui'], 'friends of sky team': ['martin', 'lumumba', 'chemu'], 'kitchen cabinet': ['maggy', 'eva', 'linda'], 'office keepers': ['kocheli', 'john']}\n"
     ]
    }
   ],
   "source": [
    "office[\"office keepers\"].pop()\n",
    "print(office)"
   ]
  },
  {
   "cell_type": "code",
   "execution_count": 23,
   "id": "ccc22f63",
   "metadata": {},
   "outputs": [
    {
     "name": "stdout",
     "output_type": "stream",
     "text": [
      "{'Sky team': ['nyambane', 'eugine', 'yussuf', 'kirui'], 'friends of sky team': ['martin', 'lumumba', 'chemu'], 'kitchen cabinet': ['maggy', 'eva', 'linda'], 'office keepers': ['kocheli', 'john']}\n",
      "{'Sky team': ['nyambane', 'eugine', 'yussuf', 'kirui'], 'friends of sky team': ['martin', 'lumumba', 'chemu'], 'kitchen cabinet': ['maggy', 'eva', 'linda'], 'office keepers': ['kocheli', 'john']}\n"
     ]
    }
   ],
   "source": [
    "if \"linda\" not in [\"friends of the sky team\"]:\n",
    "    print(office)\n",
    "else:office[\"friends of sky team\"].append(\"linda\")\n",
    "print(office)"
   ]
  },
  {
   "cell_type": "code",
   "execution_count": 30,
   "id": "cb1ff32d",
   "metadata": {},
   "outputs": [
    {
     "ename": "TypeError",
     "evalue": "'dict' object is not callable",
     "output_type": "error",
     "traceback": [
      "\u001b[1;31m---------------------------------------------------------------------------\u001b[0m",
      "\u001b[1;31mTypeError\u001b[0m                                 Traceback (most recent call last)",
      "Cell \u001b[1;32mIn[30], line 1\u001b[0m\n\u001b[1;32m----> 1\u001b[0m \u001b[38;5;28mprint\u001b[39m(office(\u001b[38;5;124m\"\u001b[39m\u001b[38;5;124mSky team\u001b[39m\u001b[38;5;124m\"\u001b[39m, [\u001b[38;5;241m1\u001b[39m]))\n",
      "\u001b[1;31mTypeError\u001b[0m: 'dict' object is not callable"
     ]
    }
   ],
   "source": [
    "print(office(\"Sky team\", [1]))"
   ]
  },
  {
   "cell_type": "code",
   "execution_count": 36,
   "id": "1c3e1f15",
   "metadata": {},
   "outputs": [],
   "source": [
    "menu = {\n",
    "    \"breakfast\" : {\n",
    "        \"beverage\" : {\n",
    "            \"tea\" : [\"masala\", \"ginger\", \"caramel\"],\n",
    "            \"coffee\" : [\"black\", \"white\", \"latte\"],\n",
    "            \"cocoa\" : [\"hot chocolate\", \"cold chocolate\"],\n",
    "        },\n",
    "        \"accompaniments\": {\n",
    "            \"wings\" : [\"hot wings\", \"spicy\", \"lemon and herbs\"],\n",
    "            \"kienyeji\" : [\"nduma\", \"nguashe\", \"casava\"],\n",
    "        },\n",
    "    \"lunch\" : {\n",
    "        \"carbohydrate\" : [\"ugali\", \"mokimo\", \"rice\"],\n",
    "        \"veges\" : [\"sukuma\", \"cabbage\"],\n",
    "        \"proteins\" : [\"chicken\", \"fish\", \"matton\"],\n",
    "    }\n",
    "        }\n",
    "        }"
   ]
  },
  {
   "cell_type": "code",
   "execution_count": 37,
   "id": "e2ea5a83",
   "metadata": {},
   "outputs": [
    {
     "name": "stdout",
     "output_type": "stream",
     "text": [
      "{'breakfast': {'beverage': {'tea': ['masala', 'ginger', 'caramel'], 'coffee': ['black', 'white', 'latte'], 'cocoa': ['hot chocolate', 'cold chocolate']}, 'accompaniments': {'wings': ['hot wings', 'spicy', 'lemon and herbs'], 'kienyeji': ['nduma', 'nguashe', 'casava']}, 'lunch': {'carbohydrate': ['ugali', 'mokimo', 'rice'], 'veges': ['sukuma', 'cabbage'], 'proteins': ['chicken', 'fish', 'matton']}}}\n"
     ]
    }
   ],
   "source": [
    "print(menu)"
   ]
  },
  {
   "cell_type": "code",
   "execution_count": 44,
   "id": "ae1bf699",
   "metadata": {},
   "outputs": [
    {
     "name": "stdout",
     "output_type": "stream",
     "text": [
      "{'beverage': {'tea': ['masala', 'ginger', 'caramel'], 'coffee': ['black', 'white', 'latte'], 'cocoa': ['hot chocolate', 'cold chocolate']}, 'accompaniments': {'wings': ['hot wings', 'spicy', 'lemon and herbs'], 'kienyeji': ['nduma', 'nguashe', 'casava']}, 'lunch': {'carbohydrate': ['ugali', 'mokimo', 'rice'], 'veges': ['sukuma', 'cabbage'], 'proteins': ['chicken', 'fish', 'matton']}}\n"
     ]
    }
   ],
   "source": [
    "print(menu[\"breakfast\"])\n"
   ]
  },
  {
   "cell_type": "code",
   "execution_count": 45,
   "id": "97eaa76f",
   "metadata": {},
   "outputs": [
    {
     "data": {
      "text/plain": [
       "dict"
      ]
     },
     "execution_count": 45,
     "metadata": {},
     "output_type": "execute_result"
    }
   ],
   "source": [
    "type(menu[\"breakfast\"])"
   ]
  },
  {
   "cell_type": "code",
   "execution_count": 46,
   "id": "cb529257",
   "metadata": {},
   "outputs": [
    {
     "data": {
      "text/plain": [
       "dict_keys(['beverage', 'accompaniments', 'lunch'])"
      ]
     },
     "execution_count": 46,
     "metadata": {},
     "output_type": "execute_result"
    }
   ],
   "source": [
    "(menu[\"breakfast\"]).keys()"
   ]
  },
  {
   "cell_type": "code",
   "execution_count": 48,
   "id": "43a30baa",
   "metadata": {},
   "outputs": [
    {
     "name": "stdout",
     "output_type": "stream",
     "text": [
      "{'tea': ['masala', 'ginger', 'caramel'], 'coffee': ['black', 'white', 'latte'], 'cocoa': ['hot chocolate', 'cold chocolate']}\n"
     ]
    }
   ],
   "source": [
    "print(menu[\"breakfast\"][\"beverage\"])"
   ]
  },
  {
   "cell_type": "code",
   "execution_count": 49,
   "id": "b52842b0",
   "metadata": {},
   "outputs": [
    {
     "name": "stdout",
     "output_type": "stream",
     "text": [
      "['masala', 'ginger', 'caramel']\n"
     ]
    }
   ],
   "source": [
    "print(menu[\"breakfast\"][\"beverage\"][\"tea\"])"
   ]
  },
  {
   "cell_type": "code",
   "execution_count": 50,
   "id": "ac8939c8",
   "metadata": {},
   "outputs": [
    {
     "name": "stdout",
     "output_type": "stream",
     "text": [
      "ginger\n"
     ]
    }
   ],
   "source": [
    "print(menu[\"breakfast\"][\"beverage\"][\"tea\"][1])"
   ]
  },
  {
   "cell_type": "code",
   "execution_count": 68,
   "id": "be17cc89",
   "metadata": {},
   "outputs": [
    {
     "name": "stdout",
     "output_type": "stream",
     "text": [
      "kocheli had the following for breakfast:\n",
      "\t*ginger\n",
      "\t*hot wings\n",
      "\t*nduma\n"
     ]
    }
   ],
   "source": [
    "print(f\"kocheli had the following for breakfast:\\n\\t*{menu['breakfast']['beverage']['tea'][1]}\\n\\t*{menu['breakfast']['accompaniments']['wings'][0]}\\n\\t*{menu['breakfast']['accompaniments']['kienyeji'][0]}\")"
   ]
  },
  {
   "cell_type": "code",
   "execution_count": null,
   "id": "db732f2d",
   "metadata": {},
   "outputs": [],
   "source": []
  }
 ],
 "metadata": {
  "kernelspec": {
   "display_name": "Python 3 (ipykernel)",
   "language": "python",
   "name": "python3"
  },
  "language_info": {
   "codemirror_mode": {
    "name": "ipython",
    "version": 3
   },
   "file_extension": ".py",
   "mimetype": "text/x-python",
   "name": "python",
   "nbconvert_exporter": "python",
   "pygments_lexer": "ipython3",
   "version": "3.11.3"
  }
 },
 "nbformat": 4,
 "nbformat_minor": 5
}
