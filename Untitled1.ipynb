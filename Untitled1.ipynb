{
 "cells": [
  {
   "cell_type": "code",
   "execution_count": 1,
   "id": "45aa12de",
   "metadata": {},
   "outputs": [
    {
     "name": "stdout",
     "output_type": "stream",
     "text": [
      "1\n"
     ]
    }
   ],
   "source": [
    "# leave days\n",
    "leave_days = 0\n",
    "leave_days = leave_days + 1\n",
    "print(leave_days)\n",
    "leave_days += 1\n"
   ]
  },
  {
   "cell_type": "raw",
   "id": "78facb4f",
   "metadata": {},
   "source": [
    "\n"
   ]
  },
  {
   "cell_type": "code",
   "execution_count": 6,
   "id": "5f0eb89b",
   "metadata": {},
   "outputs": [
    {
     "name": "stdout",
     "output_type": "stream",
     "text": [
      "-1\n"
     ]
    }
   ],
   "source": [
    "leave_days -= 1\n",
    "print(leave_days)"
   ]
  },
  {
   "cell_type": "code",
   "execution_count": null,
   "id": "d336c61c",
   "metadata": {},
   "outputs": [],
   "source": [
    "# conditional flows\n"
   ]
  },
  {
   "cell_type": "code",
   "execution_count": 8,
   "id": "1bf27029",
   "metadata": {},
   "outputs": [
    {
     "name": "stdout",
     "output_type": "stream",
     "text": [
      "20\n"
     ]
    }
   ],
   "source": [
    "# use boolian\n",
    "leave_days = 21\n",
    "take_leave = True\n",
    "if take_leave: # condition\n",
    "    leave_days -= 1\n",
    "    print(leave_days)"
   ]
  },
  {
   "cell_type": "code",
   "execution_count": 9,
   "id": "6d53d6b9",
   "metadata": {},
   "outputs": [
    {
     "name": "stdout",
     "output_type": "stream",
     "text": [
      "You can have Id\n"
     ]
    }
   ],
   "source": [
    "age = 20\n",
    "if age > 18:\n",
    "    print(\"You can have Id\")"
   ]
  },
  {
   "cell_type": "code",
   "execution_count": 10,
   "id": "645f14dd",
   "metadata": {},
   "outputs": [
    {
     "data": {
      "text/plain": [
       "True"
      ]
     },
     "execution_count": 10,
     "metadata": {},
     "output_type": "execute_result"
    }
   ],
   "source": [
    "age > 18"
   ]
  },
  {
   "cell_type": "code",
   "execution_count": 18,
   "id": "94a90694",
   "metadata": {},
   "outputs": [
    {
     "name": "stdout",
     "output_type": "stream",
     "text": [
      "Fail\n"
     ]
    }
   ],
   "source": [
    "# if else statemet to determine the student has failed\n",
    "score = 30\n",
    "if score > 40:\n",
    "    grade = \"Pass\"\n",
    "    print(outcome)\n",
    "else:\n",
    "    outcome = \"Fail\"\n",
    "    print(outcome)\n",
    "    \n",
    "    "
   ]
  },
  {
   "cell_type": "code",
   "execution_count": 20,
   "id": "789aaab8",
   "metadata": {},
   "outputs": [],
   "source": [
    "if score > 40:\n",
    "    grade = \"D\"\n",
    "    print(grade)"
   ]
  },
  {
   "cell_type": "code",
   "execution_count": null,
   "id": "a387d1d8",
   "metadata": {},
   "outputs": [],
   "source": [
    "##and\n",
    "# use to join conditions\n"
   ]
  },
  {
   "cell_type": "code",
   "execution_count": 25,
   "id": "baa13300",
   "metadata": {},
   "outputs": [
    {
     "name": "stdout",
     "output_type": "stream",
     "text": [
      "Man\n"
     ]
    }
   ],
   "source": [
    "age = 20\n",
    "gender = \"Male\"\n",
    "if (age < 18) and gender == \"Male\":\n",
    "    print(\"Boy\")\n",
    "    \n",
    "else: print(\"Man\")\n",
    "\n"
   ]
  },
  {
   "cell_type": "markdown",
   "id": "4b5dcd1b",
   "metadata": {},
   "source": [
    "Summary\n",
    "|Condition 1| Condition 2| Final Condition|\n",
    "|:------------:|:------------:|:-------------:|\n",
    "|True|True|True|\n",
    "|Tue|False|False|\n",
    "|False|True|False|\n",
    "|False|False|False|\n"
   ]
  },
  {
   "cell_type": "code",
   "execution_count": 34,
   "id": "a1c83494",
   "metadata": {},
   "outputs": [
    {
     "name": "stdout",
     "output_type": "stream",
     "text": [
      "B\n"
     ]
    }
   ],
   "source": [
    "#grades\n",
    "#above 40 >>D\n",
    "#above 50 >>C\n",
    "#above 60 >>B\n",
    "#above 70 >>A\n",
    "#below 40 >>E\n",
    "grade = 67\n",
    "if (grade >= 40) and (grade <50):\n",
    "    grade = \"D\"\n",
    "    print(grade)\n",
    "    \n",
    "    # elif statement ( else if)\n",
    "elif (grade >= 50) and (grade < 60):\n",
    "    grade = \"C\"\n",
    "    print(grade)\n",
    "    \n",
    "elif (grade >= 60) and (grade < 70):\n",
    "    grade = \"B\"\n",
    "    print(grade)\n",
    "    \n",
    "elif (grade >= 70):\n",
    "    grade = \"A\"\n",
    "    print(grade)\n",
    "    \n",
    "    \n",
    "else:\n",
    "    print(\"Fail\")\n",
    "    \n",
    "\n",
    "    \n",
    "    \n"
   ]
  },
  {
   "cell_type": "code",
   "execution_count": 1,
   "id": "3a20e0d5",
   "metadata": {},
   "outputs": [
    {
     "name": "stdout",
     "output_type": "stream",
     "text": [
      "You can go to the bouncing castle\n"
     ]
    }
   ],
   "source": [
    "# OR is use to join- at least one condition should true\n",
    "height = 20\n",
    "weight = 10\n",
    "if (height > 45) or (weight < 50):\n",
    "    print(\"You can go to the bouncing castle\")\n",
    "else: print(\"You will destroy the castle\")\n",
    "    \n",
    "# weight has met the creterior, height not\n"
   ]
  },
  {
   "cell_type": "code",
   "execution_count": 3,
   "id": "57d54858",
   "metadata": {},
   "outputs": [
    {
     "name": "stdout",
     "output_type": "stream",
     "text": [
      "Chinua Achebe, \"Things fall apart.\"\n"
     ]
    }
   ],
   "source": [
    "print('Chinua Achebe, \"Things fall apart.\"')"
   ]
  },
  {
   "cell_type": "code",
   "execution_count": null,
   "id": "9e97ff3f",
   "metadata": {},
   "outputs": [],
   "source": []
  }
 ],
 "metadata": {
  "kernelspec": {
   "display_name": "Python 3 (ipykernel)",
   "language": "python",
   "name": "python3"
  },
  "language_info": {
   "codemirror_mode": {
    "name": "ipython",
    "version": 3
   },
   "file_extension": ".py",
   "mimetype": "text/x-python",
   "name": "python",
   "nbconvert_exporter": "python",
   "pygments_lexer": "ipython3",
   "version": "3.11.3"
  }
 },
 "nbformat": 4,
 "nbformat_minor": 5
}
